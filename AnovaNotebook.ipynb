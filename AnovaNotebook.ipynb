{
 "cells": [
  {
   "cell_type": "code",
   "execution_count": 0,
   "metadata": {},
   "outputs": [],
   "source": []
  },
  {
   "cell_type": "code",
   "execution_count": 3,
   "metadata": {},
   "outputs": [],
   "source": [
    "import dataiku\n",
    "from dataiku import pandasutils as pdu\n",
    "import pandas as pd\n",
    "import dataiku"
   ]
  },
  {
   "cell_type": "code",
   "execution_count": 4,
   "metadata": {},
   "outputs": [],
   "source": [
    "# Load dataset from Dataiku YOU MAY NEED TO CHANGE THE DATASET NAME!\n",
    "df = dataiku.Dataset(\"run_settings_prepared_joined\").get_dataframe()"
   ]
  },
  {
   "cell_type": "code",
   "execution_count": 5,
   "metadata": {},
   "outputs": [],
   "source": [
    "# Fit model: assuming 'operator_id' is a categorical variable\n",
    "model = ols('Q(\"Pore Size (um)\") ~ C(Q(\"Operator\"))', data=df).fit()"
   ]
  },
  {
   "cell_type": "code",
   "execution_count": 6,
   "metadata": {},
   "outputs": [
    {
     "name": "stdout",
     "output_type": "stream",
     "text": [
      "                        sum_sq    df         F    PR(>F)\n",
      "C(Q(\"Operator\"))    216.724667   4.0  0.283916  0.887178\n",
      "Residual          10495.934667  55.0       NaN       NaN\n"
     ]
    }
   ],
   "source": [
    "# Perform ANOVA\n",
    "anova_table = sm.stats.anova_lm(model, typ=2)\n",
    "print(anova_table)"
   ]
  },
  {
   "cell_type": "code",
   "execution_count": 0,
   "metadata": {},
   "outputs": [],
   "source": [
    "# Write the ANOVA results to the output dataset\n",
    "anova = dataiku.Dataset(\"anova\")\n",
    "anova.write_with_schema(anova_table.reset_index())"
   ]
  }
 ],
 "metadata": {
  "createdOn": 1747316940306,
  "creator": "kirsten.hoogenakker@dataiku.com",
  "customFields": {},
  "hide_input": false,
  "kernelspec": {
   "display_name": "Python 3 (ipykernel)",
   "language": "python",
   "name": "python3"
  },
  "language_info": {
   "codemirror_mode": {
    "name": "ipython",
    "version": 3
   },
   "file_extension": ".py",
   "mimetype": "text/x-python",
   "name": "python",
   "nbconvert_exporter": "python",
   "pygments_lexer": "ipython3",
   "version": "3.9.20"
  },
  "modifiedBy": "kirsten.hoogenakker@dataiku.com",
  "tags": []
 },
 "nbformat": 4,
 "nbformat_minor": 1
}
