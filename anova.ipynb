{
 "cells": [
  {
   "cell_type": "code",
   "execution_count": 0,
   "metadata": {},
   "outputs": [],
   "source": [
    "import pandas as pd\n",
    "import statsmodels.api as sm\n",
    "from statsmodels.formula.api import ols\n",
    "import dataiku"
   ]
  },
  {
   "cell_type": "code",
   "execution_count": 0,
   "metadata": {},
   "outputs": [],
   "source": [
    "# Load dataset from Dataiku\n",
    "df = dataiku.Dataset(\"test_results_prepared_joined\").get_dataframe()"
   ]
  },
  {
   "cell_type": "code",
   "execution_count": 0,
   "metadata": {},
   "outputs": [],
   "source": [
    "# Fit model: assuming 'operator_id' is a categorical variable\n",
    "model = ols('Q(\"Pore Size (um)\") ~ C(Q(\"Operator\"))', data=df).fit()"
   ]
  },
  {
   "cell_type": "code",
   "execution_count": 0,
   "metadata": {},
   "outputs": [],
   "source": [
    "# Perform ANOVA\n",
    "anova_table = sm.stats.anova_lm(model, typ=2)\n",
    "print(anova_table)"
   ]
  },
  {
   "cell_type": "code",
   "execution_count": 0,
   "metadata": {},
   "outputs": [],
   "source": [
    "# Write the ANOVA results to the output dataset\n",
    "anova = dataiku.Dataset(\"anova\")\n",
    "anova.write_with_schema(anova_table.reset_index())"
   ]
  }
 ],
 "metadata": {
  "associatedRecipe": "recipe_from_notebook_anova",
  "createdOn": 1746822237661,
  "creationTag": {
   "lastModifiedBy": {
    "login": "kirsten.hoogenakker@dataiku.com"
   },
   "lastModifiedOn": 1746822237661,
   "versionNumber": 0
  },
  "creator": "kirsten.hoogenakker@dataiku.com",
  "customFields": {},
  "dkuGit": {
   "gitReference": {
    "checkout": "main",
    "isDirty": false,
    "lastHash": "2d109e89632c008068192dc403ce5cc78921939b",
    "lastTimestamp": 1747090463000,
    "remote": "https://github.com/kirstenhoogenakker/anova",
    "remoteLogin": "",
    "remotePath": "anova (1).ipynb"
   },
   "lastInteraction": 1747090494665
  },
  "hide_input": false,
  "kernelspec": {
   "display_name": "Python (env stats)",
   "language": "python",
   "name": "py-dku-venv-stats"
  },
  "language_info": {
   "codemirror_mode": {
    "name": "ipython",
    "version": 3
   },
   "file_extension": ".py",
   "mimetype": "text/x-python",
   "name": "python",
   "nbconvert_exporter": "python",
   "pygments_lexer": "ipython3",
   "version": "3.9.20"
  },
  "modifiedBy": "kirsten.hoogenakker@dataiku.com",
  "tags": [
   "recipe-editor"
  ]
 },
 "nbformat": 4,
 "nbformat_minor": 1
}
